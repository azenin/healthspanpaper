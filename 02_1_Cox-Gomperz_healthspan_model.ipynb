{
 "cells": [
  {
   "cell_type": "code",
   "execution_count": null,
   "metadata": {
    "ExecuteTime": {
     "end_time": "2018-12-18T15:05:30.758449Z",
     "start_time": "2018-12-18T15:05:29.460390Z"
    },
    "hideCode": false,
    "hidePrompt": false,
    "hide_input": false
   },
   "outputs": [],
   "source": [
    "%run IMPORT.ipynb"
   ]
  },
  {
   "cell_type": "code",
   "execution_count": null,
   "metadata": {
    "ExecuteTime": {
     "end_time": "2018-12-18T15:05:30.776608Z",
     "start_time": "2018-12-18T15:05:30.761584Z"
    },
    "hideCode": false,
    "hidePrompt": false,
    "hide_input": false
   },
   "outputs": [],
   "source": [
    "%config InlineBackend.figure_format = 'retina'\n",
    "%matplotlib notebook"
   ]
  },
  {
   "cell_type": "code",
   "execution_count": null,
   "metadata": {
    "ExecuteTime": {
     "end_time": "2018-12-18T15:05:30.785398Z",
     "start_time": "2018-12-18T15:05:30.780840Z"
    }
   },
   "outputs": [],
   "source": [
    "from itertools import product"
   ]
  },
  {
   "cell_type": "markdown",
   "metadata": {},
   "source": [
    "### Parse data and save"
   ]
  },
  {
   "cell_type": "code",
   "execution_count": null,
   "metadata": {
    "ExecuteTime": {
     "end_time": "2018-12-18T15:29:34.878248Z",
     "start_time": "2018-12-18T15:29:27.025113Z"
    },
    "code_folding": [],
    "hideCode": false,
    "hidePrompt": false,
    "scrolled": true
   },
   "outputs": [],
   "source": [
    "sampleqc = pd.read_csv('data/ukb_sqc_v2.txt', sep=' ', header=None).drop([0,1], axis=1)\n",
    "index = pd.read_csv('data/ukbxxxx_cal_chr10_v2_sxxxxxx.fam', sep=' ', header=None)\n",
    "sampleqc['index'] = index[0].values\n",
    "sampleqc = sampleqc.set_index('index')\n",
    "pca = sampleqc[range(25,65)]\n",
    "pca.columns = ['PC%i' % i for i in range(len(pca.columns))]\n",
    "\n",
    "sampleqc.to_pickle('data/sampleqc.pkl')\n",
    "pca.to_pickle('data/pca.pkl')"
   ]
  },
  {
   "cell_type": "code",
   "execution_count": null,
   "metadata": {
    "ExecuteTime": {
     "end_time": "2018-12-13T12:36:00.113723Z",
     "start_time": "2018-12-13T12:35:34.959300Z"
    },
    "code_folding": [],
    "hideCode": false,
    "hidePrompt": false,
    "scrolled": true
   },
   "outputs": [],
   "source": [
    "def parse_mort_data_and_baseline_info():\n",
    "\n",
    "    ukb10772 = pd.read_csv('data/ukbxxxxx.csv.gz',\n",
    "            index_col=0, engine='c', quotechar='\\\"', quoting=1, memory_map=False, low_memory=False,\n",
    "            usecols=['eid','31-0.0','34-0.0','52-0.0','53-0.0','54-0.0','21000-0.0','40000-0.0'],\n",
    "                           dtype={'34-0.0':str,'52-0.0':str},\n",
    "                           parse_dates=['53-0.0','40000-0.0'])\n",
    "\n",
    "    ukb10772['54-0.0'].to_pickle('data/assess_center.pkl')\n",
    "    \n",
    "    birth = pd.to_datetime(ukb10772['34-0.0']+'-'+ukb10772['52-0.0']+'-15')\n",
    "    sex = pd.Series(ukb10772['31-0.0'], name='sex')\n",
    "\n",
    "    t1 = ukb10772['53-0.0'] - birth\n",
    "    t1 = t1.apply(lambda x: x.days/365.25)\n",
    "\n",
    "    deathtime = ukb10772['40000-0.0']\n",
    "    deathtime = deathtime.fillna(deathtime.max())\n",
    "\n",
    "    t2 = deathtime - pd.to_datetime(birth, errors='coerce')\n",
    "    # t2 = deathtime.max() - pd.to_datetime(birth, errors='coerce')\n",
    "    t2 = t2.apply(lambda x: x.days/365.25)\n",
    "\n",
    "    event = ukb10772['40000-0.0'].notnull()\n",
    "\n",
    "    tf = deathtime.max() - pd.to_datetime(birth, errors='coerce')\n",
    "    tf = tf.apply(lambda x: x.days/365.25)\n",
    "    \n",
    "    return pd.concat([birth, sex, t1, t2, tf, event], axis=1, keys=['birth', 'sex', 't1', 't2', 'tf', 'event'])\n",
    "\n",
    "parse_mort_data_and_baseline_info()"
   ]
  },
  {
   "cell_type": "code",
   "execution_count": null,
   "metadata": {},
   "outputs": [],
   "source": [
    "race = pd.read_csv('data/ukbxxxxx.csv.gz',\n",
    "                  index_col=0, engine='c', quotechar='\\\"', quoting=1, memory_map=False, usecols=['eid','21000-0.0'])\n",
    "\n",
    "race = race.rename(columns={'21000-0.0':'race'})['race']\n",
    "coding1001 = pd.read_csv('data/coding1001.tsv', sep='\\t').set_index('coding')['meaning']\n",
    "\n",
    "for key, value in coding1001.iteritems():\n",
    "    race[race==key] = value"
   ]
  },
  {
   "cell_type": "code",
   "execution_count": null,
   "metadata": {},
   "outputs": [],
   "source": [
    "race.to_pickle('data/race.pkl')"
   ]
  },
  {
   "cell_type": "markdown",
   "metadata": {},
   "source": [
    "### Load data"
   ]
  },
  {
   "cell_type": "code",
   "execution_count": null,
   "metadata": {
    "ExecuteTime": {
     "end_time": "2018-12-18T15:32:25.406772Z",
     "start_time": "2018-12-18T15:32:23.576963Z"
    }
   },
   "outputs": [],
   "source": [
    "sampleqc = pd.read_pickle('data/sampleqc.pkl')\n",
    "pca = pd.read_pickle('data/pca.pkl')\n",
    "assess_center = pd.read_pickle('data/assess_center.pkl')\n",
    "baseline = pd.read_pickle('data/baseline.pkl')\n",
    "race = pd.read_pickle('data/race.pkl')"
   ]
  },
  {
   "cell_type": "markdown",
   "metadata": {
    "hideCode": false,
    "hidePrompt": false
   },
   "source": [
    "### Disease incidence data generation"
   ]
  },
  {
   "cell_type": "code",
   "execution_count": null,
   "metadata": {
    "code_folding": [],
    "hideCode": false,
    "hidePrompt": false
   },
   "outputs": [],
   "source": [
    "def e(field, instances, arrays):\n",
    "    return ['%s-%i.%i'%(field, a, b) for a, b in product(range(instances),range(arrays))]\n",
    "\n",
    "def make_ukbdf():\n",
    "    ukb1 = pd.read_csv('data/ukbxxxxxx.csv.gz',\n",
    "                            index_col=0, engine='c', quotechar='\\\"', quoting=1, memory_map=False, low_memory=False,\n",
    "                            usecols=['eid']+\n",
    "                            e('4056',3,1)+ #  stroke\n",
    "                            e('3894',3,1)+ #  heart attack/ MI\n",
    "\n",
    "                            e('20001',3,6)+ #  deseases\n",
    "                            e('20002',3,29)+ #  deseases\n",
    "\n",
    "                            e('40008',32,1)+ #  cancer\n",
    "                            e('40006',32,1)+ #  cancer icd\n",
    "                            e('40012',32,1)+ #  cancer icd\n",
    "                            e('40007',3,1), #  death\n",
    "#                             ['40000-0.0','40001-0.0','40002-0.0'],\n",
    "                            )\n",
    "    ukb2 = pd.read_csv('data/ukbxxxxxx.csv.gz',\n",
    "                         index_col=0, engine='c', quotechar='\\\"', quoting=1, memory_map=False)\n",
    "\n",
    "    ukbdfxs = ukb1.index.intersection(ukb2.index)\n",
    "    ukbdf = pd.concat([ukb2.loc[ukbdfxs,:],ukb1.loc[ukbdfxs,:]], axis=1)\n",
    "    return ukbdf\n",
    "\n",
    "\n",
    "def parse_ICD10_data():\n",
    "\n",
    "    hesin = pd.read_csv('data/hesin.tsv', sep='\\t',\n",
    "                        usecols=['eid','record_id','diag_icd10','epistart']).dropna(how='any')\n",
    "    hesin_diag10 = pd.read_csv('data/hesin_diag10.tsv', sep='\\t',\n",
    "                               usecols=['eid','record_id','diag_icd10']).dropna(how='any')\n",
    "\n",
    "    coding19 = pd.read_csv('data/coding19.tsv', sep='\\t')\n",
    "    coding19['codelen'] = coding19['coding'].apply(len)\n",
    "\n",
    "    epistart = pd.to_datetime(hesin[['epistart','record_id']].set_index('record_id')['epistart'], errors='coerce')\n",
    "\n",
    "    main = hesin.set_index('eid')\n",
    "    secondary = hesin_diag10.set_index('eid')\n",
    "    datasets = []\n",
    "\n",
    "    for dataset in [main, secondary]:\n",
    "        dataset['birth'] = baseline.loc[dataset.index,'birth']\n",
    "        dataset = dataset.reset_index().set_index('record_id')\n",
    "        dataset['epistart'] = epistart[dataset.index]\n",
    "        dataset['age'] = dataset['epistart'] - dataset['birth']\n",
    "        dataset['age'] = dataset['age'].apply(lambda x: x.days/365.25)\n",
    "        dataset = dataset.reset_index().set_index('eid').drop(['epistart','birth','record_id'],\n",
    "                                                                  axis=1).reset_index().set_index(['eid']).dropna()\n",
    "        datasets.append(dataset)\n",
    "\n",
    "    icd10 = pd.concat(datasets)\n",
    "    icd10 = icd10.reset_index().drop_duplicates()#.set_index('eid')\n",
    "    icd10['first3'] = icd10['diag_icd10'].apply(lambda x: x[:3])\n",
    "\n",
    "    icdsource = icd10[['eid','age','first3']].groupby(['eid','first3']).min().reset_index()\n",
    "    \n",
    "    return icdsource[icdsource['eid']!=2715388]\n",
    "\n",
    "\n",
    "EXCLUDE_C44 = False\n",
    "\n",
    "def make_ICD_dfs():\n",
    "    \n",
    "    icdsource = parse_ICD10_data()\n",
    "    ukbdf = make_ukbdf()\n",
    "\n",
    "    icd_df = pd.DataFrame(index=ukbdf.index, columns=descodes.keys())\n",
    "\n",
    "    for desease_name, codes in descodes.iteritems():\n",
    "\n",
    "        ill = icdsource.loc[icdsource['first3'].isin(codes['icd']),['eid','age']].groupby('eid').min()['age']\n",
    "        icd_df.loc[ill.index,desease_name] = ill.values\n",
    "\n",
    "\n",
    "    if EXCLUDE_C44:\n",
    "\n",
    "        mask1 = (ukbdf[e('40012',32,1)]>2).rename(columns=dict(zip(e('40012',32,1),e('40008',32,1))))\n",
    "        cancericd = ukbdf[e('40006',32,1)]\n",
    "        mask2 = (~pd.concat([cancericd[col].astype(str).str.contains('C44') for col in cancericd.columns],\n",
    "                            axis=1)).rename(\n",
    "            columns=dict(zip(e('40006',32,1),e('40008',32,1))))\n",
    "\n",
    "        cancer_reg = ukbdf[e('40008',32,1)][mask1&mask2].min(1)\n",
    "\n",
    "        ccc = pd.concat([cancer_reg,\n",
    "                         icdsource.loc[(icdsource['first3'].str.contains('C')&(~icdsource['first3'].str.contains(\n",
    "                             'C44'))), ['eid','age']].groupby('eid').min()['age']], axis=1,\n",
    "                         keys=['CR','ICD'])\n",
    "\n",
    "    else:\n",
    "\n",
    "        cancer_reg = ukbdf[e('40008',32,1)][(ukbdf[e('40012',32,1)]>2).rename(\n",
    "            columns=dict(zip(e('40012',32,1),e('40008',32,1))))].min(1)\n",
    "\n",
    "        ccc = pd.concat([cancer_reg,\n",
    "                         icdsource.loc[icdsource['first3'].str.contains('C'),\n",
    "                                       ['eid','age']].groupby('eid').min()['age']], axis=1, keys=['CR','ICD'])\n",
    "\n",
    "    cancer_comb = ccc.min(1).dropna()\n",
    "\n",
    "    mort = baseline[['t1','t2','event']]#pd.concat([t1,t2,event], axis=1, keys=['t1','t2','event'])\n",
    "\n",
    "    icd_df['cancer'] = cancer_comb.loc[icd_df.index]\n",
    "    icd_df.loc[mort['event']==True,'death'] = mort.loc[mort['event']==True,'t2']\n",
    "\n",
    "    srdeseases = ukbdf[e('20002',3,29)].rename(columns=dict(zip(e('20002',3,29),e('20009',3,29))))\n",
    "    srages = ukbdf[e('20009',3,29)]\n",
    "\n",
    "    srages[srages<0] = np.nan\n",
    "\n",
    "    sr_df = pd.DataFrame(index=ukbdf.index, columns=descodes.keys())\n",
    "\n",
    "    for desease_name, codes in descodes.iteritems():\n",
    "\n",
    "        ill = srages[srdeseases.isin(codes['sr'])].min(1)\n",
    "        sr_df.loc[ill.index,desease_name] = ill.values\n",
    "\n",
    "    sr_df['cancer'] = ukbdf[e('20007',3,6)].min(1).loc[sr_df.index]\n",
    "    # sr_df['cancer'] = pd.Series(np.nan, index=sr_df.index)\n",
    "    sr_df['death'] = np.nan\n",
    "    \n",
    "    return icd_df, sr_df\n",
    "\n",
    "icd_df, sr_df = make_ICD_dfs()"
   ]
  },
  {
   "cell_type": "code",
   "execution_count": null,
   "metadata": {
    "hideCode": false,
    "hidePrompt": false
   },
   "outputs": [],
   "source": [
    "clean_index = sampleqc.index[sampleqc[23]==1].intersection(\n",
    "              sampleqc.index[sampleqc[2]=='UKBB']).intersection(\n",
    "              sampleqc.index[sampleqc[24]==1])"
   ]
  },
  {
   "cell_type": "code",
   "execution_count": null,
   "metadata": {},
   "outputs": [],
   "source": [
    "clean_index = race[(race=='British')|(race=='Any other white background') \\\n",
    "                   |(race=='Irish')|(race=='White')].index.intersection(sampleqc.index[sampleqc[24]==1])"
   ]
  },
  {
   "cell_type": "code",
   "execution_count": null,
   "metadata": {
    "hideCode": false,
    "hidePrompt": false
   },
   "outputs": [],
   "source": [
    "pd.Series(index=clean_index).to_pickle('data/clean_index.pkl')"
   ]
  },
  {
   "cell_type": "code",
   "execution_count": null,
   "metadata": {},
   "outputs": [],
   "source": [
    "icd_df = pd.read_pickle('data/icd_df.pkl')\n",
    "sr_df = pd.read_pickle('data/sr_df.pkl')"
   ]
  },
  {
   "cell_type": "code",
   "execution_count": null,
   "metadata": {
    "hideCode": false,
    "hidePrompt": false
   },
   "outputs": [],
   "source": [
    "icd_df.loc[clean_index,:].notnull().sum()"
   ]
  },
  {
   "cell_type": "code",
   "execution_count": null,
   "metadata": {},
   "outputs": [],
   "source": [
    "def get_comb_df(setlist, clean_index):\n",
    "    comb_df = icd_df[setlist].min(1)\n",
    "    sr_comb = sr_df[setlist].min(1)\n",
    "\n",
    "    add = sr_comb[sr_comb.notnull()&comb_df.isnull()]\n",
    "    comb_df[add.index] = add.values\n",
    "    comb_df[comb_df<0] = np.nan\n",
    "    comb_df = pd.concat([comb_df,comb_df.notnull(),baseline['t2'],baseline['tf']], axis=1,\n",
    "                        keys=['tdiag','event','t2','tf']).loc[clean_index,:]\n",
    "    comb_df.loc[:,'t2'] = comb_df.loc[:,['tdiag','t2']].min(1)\n",
    "    return comb_df"
   ]
  },
  {
   "cell_type": "code",
   "execution_count": null,
   "metadata": {
    "hideCode": false,
    "hidePrompt": false
   },
   "outputs": [],
   "source": [
    "sets = {name:[name] for name in descodes.keys()}\n",
    "sets['death'] = ['death']\n",
    "sets['cancer'] = ['cancer']\n",
    "sets['healthspan'] = descodes.keys() + ['death','cancer']"
   ]
  },
  {
   "cell_type": "code",
   "execution_count": null,
   "metadata": {},
   "outputs": [],
   "source": [
    "get_comb_df(sets['death'], baseline.index).to_pickle('data/lifespan_500k.pkl')\n",
    "get_comb_df(sets['healthspan'], baseline.index).to_pickle('data/healthspan_500k.pkl')"
   ]
  },
  {
   "cell_type": "markdown",
   "metadata": {},
   "source": [
    "### Plots generation"
   ]
  },
  {
   "cell_type": "markdown",
   "metadata": {},
   "source": [
    "#### Incidence rates and slopes generation"
   ]
  },
  {
   "cell_type": "code",
   "execution_count": null,
   "metadata": {},
   "outputs": [],
   "source": [
    "from scipy.stats import binom"
   ]
  },
  {
   "cell_type": "code",
   "execution_count": null,
   "metadata": {
    "hideCode": false,
    "hidePrompt": false
   },
   "outputs": [],
   "source": [
    "td = 2.\n",
    "\n",
    "plotdata = {}\n",
    "\n",
    "for label, setlist in sets.iteritems():\n",
    "\n",
    "    comb_df = get_comb_df(setlist, clean_index)\n",
    "\n",
    "    if label == 'death':\n",
    "        comb_df['t1'] = baseline.loc[comb_df.index,'t1']\n",
    "    else:\n",
    "        comb_df['t1'] = 0\n",
    "\n",
    "    xrange_ = np.arange(comb_df['t2'].min(),comb_df['t2'].max(),td)\n",
    "\n",
    "    res = pd.DataFrame(xrange_, columns=['x'])\n",
    "    res['res'] = np.nan\n",
    "    res['Nd'] = np.nan\n",
    "    res['Na'] = np.nan\n",
    "\n",
    "    for i, a in enumerate(xrange_):\n",
    "        folslice = comb_df[(comb_df['tf'] >= (a+td))&(comb_df['t1']<=a)]\n",
    "        Nd = np.sum((folslice['event'] == True) & (folslice['t2'] >= a) & (folslice['t2'] < (a+td)))\n",
    "        Na = np.sum(((folslice['event'] == True) & (folslice['t2'] >= a))|\n",
    "                    ((folslice['event'] == False) & (folslice['t2'] >= (a+td))))\n",
    "        res.loc[i,'res'] = np.divide(float(Nd),float(Na))/td\n",
    "        dNd = Nd**0.5\n",
    "        dNa = Na**0.5\n",
    "        res.loc[i,'Nd'] = Nd\n",
    "        res.loc[i,'Na'] = Na\n",
    "        res.loc[i,'std1'] = np.sqrt((dNd/Na)**2+(dNa*Nd/Na**2)**2)/td\n",
    "        res.loc[i,'std2'] = np.sqrt((dNd/Na)**2-(dNa*Nd/Na**2)**2)/td\n",
    "        binom95ci = binom.ppf([0.025,0.975], Na, res.loc[i,'res'])\n",
    "        res.loc[i,'std4'] = binom95ci[0]/Na\n",
    "        res.loc[i,'std5'] = binom95ci[1]/Na\n",
    "\n",
    "    plotdata[label] = res"
   ]
  },
  {
   "cell_type": "markdown",
   "metadata": {},
   "source": [
    "#### Incidence rates plotting"
   ]
  },
  {
   "cell_type": "code",
   "execution_count": null,
   "metadata": {},
   "outputs": [],
   "source": [
    "with pd.ExcelWriter('data/supdata1.xlsx') as writer:\n",
    "\n",
    "    for key, value in plotdata.iteritems():\n",
    "\n",
    "        value.drop(['std1','std2'], axis=1).rename(\n",
    "        columns={'x':'age','res':'logIR','std4':'logIR 2.5% CI',\n",
    "                 'std5':'logIR 97.5% CI'}).set_index('age').to_excel(writer, sheet_name=key)"
   ]
  },
  {
   "cell_type": "code",
   "execution_count": null,
   "metadata": {},
   "outputs": [],
   "source": [
    "from matplotlib import rcParams\n",
    "rcParams['font.family'] = 'sans-serif'\n",
    "rcParams['font.sans-serif'] = ['Arial']\n",
    "rcParams['font.size'] = 8"
   ]
  },
  {
   "cell_type": "code",
   "execution_count": null,
   "metadata": {
    "hideCode": false,
    "hidePrompt": false
   },
   "outputs": [],
   "source": [
    "fig = pl.figure(figsize=(6,6))\n",
    "ax = fig.add_subplot(111)\n",
    "colors = {}\n",
    "\n",
    "for label, res in plotdata.iteritems():\n",
    "\n",
    "    if label == 'healthspan':\n",
    "        lw = 3\n",
    "    else:\n",
    "        lw = 2\n",
    "    res_ = res.copy()\n",
    "    res_[res_['Nd']<=30] = np.nan\n",
    "    plot = ax.plot(res_['x'], res_['res'], lw=lw, label=label)\n",
    "    colors[label] = plot[0].get_color()\n",
    "    ax.fill_between(res_['x'], res_['std4'], res_['std5'],\n",
    "                    color=colors[label], alpha=0.4, linewidth=0.0)\n",
    "    \n",
    "ax.spines['top'].set_visible(False)\n",
    "ax.spines['right'].set_visible(False)\n",
    "ax.spines['bottom'].set_visible(False)\n",
    "ax.spines['left'].set_visible(False)\n",
    "\n",
    "pl.yscale('log')\n",
    "pl.ylim(bottom=1e-5)\n",
    "pl.legend()\n",
    "ax.set_xlabel('Age, years')\n",
    "pl.ylabel('log Incidence rate, cases per population per year')"
   ]
  },
  {
   "cell_type": "code",
   "execution_count": null,
   "metadata": {},
   "outputs": [],
   "source": [
    "fig.savefig('data/DiseasesIncidence.pdf', dpi=300)\n",
    "fig.savefig('data/DiseasesIncidence.png', dpi=300)"
   ]
  },
  {
   "cell_type": "markdown",
   "metadata": {},
   "source": [
    "#### Picharts data generation"
   ]
  },
  {
   "cell_type": "code",
   "execution_count": null,
   "metadata": {
    "hideCode": false,
    "hidePrompt": false
   },
   "outputs": [],
   "source": [
    "def generate_data_for_piecharts():\n",
    "    comb_df = icd_df[sets['healthspan']].min(1)\n",
    "    sr_comb = sr_df[sets['healthspan']].min(1)\n",
    "\n",
    "    icd_minmask = icd_df==pd.concat([comb_df]*icd_df.shape[1], keys=icd_df.columns, axis=1)\n",
    "    sr_minmask = sr_df==pd.concat([sr_comb]*sr_df.shape[1], keys=sr_df.columns, axis=1)\n",
    "\n",
    "    labeldf = icd_minmask.copy()\n",
    "    for col in labeldf.columns:\n",
    "        labeldf[col] = col\n",
    "\n",
    "    mindes = {}\n",
    "\n",
    "    for title, maskdf in {'sr':sr_minmask, 'icd':icd_minmask}.iteritems():\n",
    "\n",
    "        labeldf = maskdf.copy()\n",
    "        for col in labeldf.columns:\n",
    "            labeldf[col] = col\n",
    "\n",
    "        nonnadf = labeldf[maskdf].dropna(how='all')\n",
    "\n",
    "        sampleser = pd.Series(index=nonnadf.index)\n",
    "        for ix, row in nonnadf.iterrows():\n",
    "            sampleser[ix] = row.dropna().sample(n=1, random_state=42).values[0]\n",
    "        mindes[title] = sampleser\n",
    "\n",
    "    mindesdf = pd.DataFrame(index=icd_minmask.index, columns=['sr','icd'])\n",
    "    mindesdf.loc[mindes['sr'].index,'sr'] = mindes['sr']\n",
    "    mindesdf.loc[mindes['icd'].index,'icd'] = mindes['icd']\n",
    "\n",
    "    add = mindesdf.loc[mindesdf['sr'].notnull()&mindesdf['icd'].isnull(),'sr']\n",
    "\n",
    "    totaldf = mindesdf['icd'].copy()\n",
    "    totaldf[add.index] = add.values\n",
    "\n",
    "    totaldfpie = totaldf.dropna().value_counts()\n",
    "    \n",
    "    return icd_minmask, sr_minmask, totaldfpie\n",
    "\n",
    "icd_minmask, sr_minmask, totaldfpie = generate_data_for_piecharts()"
   ]
  },
  {
   "cell_type": "markdown",
   "metadata": {},
   "source": [
    "#### Resulting pichart plot"
   ]
  },
  {
   "cell_type": "code",
   "execution_count": null,
   "metadata": {
    "hideCode": false,
    "hidePrompt": false
   },
   "outputs": [],
   "source": [
    "pl.figure()\n",
    "pl.pie(totaldfpie.values, labels=totaldfpie.index, autopct='%1.1f%%',\n",
    "       colors=[colors[label] for label in totaldfpie.index])\n",
    "pl.axis('equal');\n",
    "# pl.title(title)"
   ]
  },
  {
   "cell_type": "code",
   "execution_count": null,
   "metadata": {},
   "outputs": [],
   "source": [
    "incid = {'Combined data':totaldfpie,\n",
    "         'Clinical information data':icd_minmask.sum(),\n",
    "         'Self-reported data':sr_minmask.sum()}\n",
    "for key, value in incid.iteritems():\n",
    "    incid[key] = pd.concat([value, (100.*value/value.sum()).round(decimals=1)], axis=1,\n",
    "                           keys=['events','percentage'])\n",
    "supdata2 = pd.concat(incid, axis=1).sort_values([('Combined data','events')], ascending=False)[\n",
    "    ['Clinical information data','Self-reported data','Combined data']]\n",
    "supdata2.to_excel('data/supdata2.xlsx')"
   ]
  },
  {
   "cell_type": "markdown",
   "metadata": {},
   "source": [
    "#### Supplementary piecharts and plotsm"
   ]
  },
  {
   "cell_type": "code",
   "execution_count": null,
   "metadata": {
    "hideCode": false,
    "hidePrompt": false
   },
   "outputs": [],
   "source": [
    "pl.figure()\n",
    "(icd_minmask).sum(1).hist(label='icd');\n",
    "(sr_minmask).sum(1).hist(label='sr');\n",
    "pl.legend()\n",
    "\n",
    "renamedict = {'sr':'Self-reported data', 'icd':'Clinical information data'}\n",
    "startangles = {'sr':0, 'icd':20}\n",
    "\n",
    "for title, maskdf in {'sr':sr_minmask, 'icd':icd_minmask}.iteritems():\n",
    "    sumdf = maskdf.sum()\n",
    "    sumdf = sumdf[sumdf>0]\n",
    "    pl.figure()\n",
    "    pl.pie(sumdf.values, labels=sumdf.index, colors=[colors[label] for label in sumdf.index],\n",
    "           autopct=lambda(p): '{:.0f}'.format(p * sumdf.sum() / 100),\n",
    "          pctdistance=0.9, rotatelabels=False, labeldistance=1.1, startangle=startangles[title])\n",
    "    pl.axis('equal')\n",
    "    pl.title(renamedict[title], y=1.1)\n",
    "#     pl.tight_layout()"
   ]
  },
  {
   "cell_type": "markdown",
   "metadata": {},
   "source": [
    "### LH optimization"
   ]
  },
  {
   "cell_type": "code",
   "execution_count": null,
   "metadata": {
    "hideCode": false,
    "hidePrompt": false
   },
   "outputs": [],
   "source": [
    "pd.set_option('display.max_rows', 50)"
   ]
  },
  {
   "cell_type": "code",
   "execution_count": null,
   "metadata": {},
   "outputs": [],
   "source": [
    "index_slice = race[(race=='British')|(race=='Any other white background')|(race=='Irish')|(race=='White')].index"
   ]
  },
  {
   "cell_type": "code",
   "execution_count": null,
   "metadata": {
    "hideCode": false,
    "hidePrompt": false
   },
   "outputs": [],
   "source": [
    "morths = get_comb_df(sets['healthspan_wo_death'], clean_index)\n",
    "morths['t1'] = 0"
   ]
  },
  {
   "cell_type": "code",
   "execution_count": null,
   "metadata": {
    "hideCode": false,
    "hidePrompt": false
   },
   "outputs": [],
   "source": [
    "morths.event.sum()"
   ]
  },
  {
   "cell_type": "code",
   "execution_count": null,
   "metadata": {},
   "outputs": [],
   "source": [
    "morths = morths[morths['t2']!=0]"
   ]
  },
  {
   "cell_type": "code",
   "execution_count": null,
   "metadata": {},
   "outputs": [],
   "source": [
    "dfindex = df_main.index"
   ]
  },
  {
   "cell_type": "code",
   "execution_count": null,
   "metadata": {
    "hideCode": true,
    "hidePrompt": false
   },
   "outputs": [],
   "source": [
    "batch_dummy = pd.get_dummies(sampleqc.loc[:,3])\n",
    "batch_dummy = batch_dummy.drop(batch_dummy.columns[batch_dummy.columns.str.contains('UKBiLEVEAX')], axis=1)\n",
    "df_main = pd.concat([\n",
    "                     baseline['sex'],\n",
    "                     pca,#.iloc[:,:15],\n",
    "#                      pd.get_dummies(race),\n",
    "                     pd.get_dummies(assess_center),\n",
    "                     batch_dummy,\n",
    "                     morths.drop(['tdiag','tf'], axis=1, errors='ignore').astype(float)\n",
    "                    ], axis=1).loc[clean_index,:].dropna()#.sample(n=40000, random_state=42)"
   ]
  },
  {
   "cell_type": "code",
   "execution_count": null,
   "metadata": {
    "hideCode": false,
    "hidePrompt": false
   },
   "outputs": [],
   "source": [
    "# df_main = pd.concat([df_main[['sex']+covariates2.tolist()], df_main[['t1','t2','event']]], axis=1)\n",
    "# df_main = pd.concat([df_main[['sex']], df_main[['t1','t2','event']]], axis=1)\n",
    "df_main.iloc[:,:-3] -= df_main.iloc[:,:-3].mean(0)\n",
    "df_main.iloc[:,:-3] /= df_main.iloc[:,:-3].std(0)"
   ]
  },
  {
   "cell_type": "code",
   "execution_count": null,
   "metadata": {},
   "outputs": [],
   "source": [
    "df_main = df_main.dropna(axis=1)"
   ]
  },
  {
   "cell_type": "code",
   "execution_count": null,
   "metadata": {
    "hideCode": false,
    "hidePrompt": false
   },
   "outputs": [],
   "source": [
    "betas = optimize_cox_gomperz(df_main)"
   ]
  },
  {
   "cell_type": "code",
   "execution_count": null,
   "metadata": {
    "hideCode": false,
    "hidePrompt": false
   },
   "outputs": [],
   "source": [
    "df_main.to_pickle('data/df_slice_andersen_list.pkl')\n",
    "betas.to_pickle('data/betas_andersen_list.pkl')"
   ]
  },
  {
   "cell_type": "code",
   "execution_count": null,
   "metadata": {
    "hideCode": false,
    "hidePrompt": false
   },
   "outputs": [],
   "source": [
    "(np.log(betas['gamma']/betas['M0'])-0.577+betas['sex'])/betas['gamma']-\\\n",
    "(np.log(betas['gamma']/betas['M0'])-0.577-betas['sex'])/betas['gamma']"
   ]
  },
  {
   "cell_type": "markdown",
   "metadata": {},
   "source": [
    "### Replication"
   ]
  },
  {
   "cell_type": "markdown",
   "metadata": {},
   "source": [
    "#### Dataset compisition"
   ]
  },
  {
   "cell_type": "code",
   "execution_count": null,
   "metadata": {},
   "outputs": [],
   "source": [
    "pl.figure()\n",
    "venn3(subsets=(set(sampleqc.index[sampleqc[23]==1].tolist()),\n",
    "               set(sampleqc.index[sampleqc[2]=='UKBB']),\n",
    "               set(sampleqc.index[sampleqc[24]==1].tolist())),\n",
    "      set_labels=('british ancestry','not UK Bileve','PCA cohort (QC passed)'))"
   ]
  },
  {
   "cell_type": "markdown",
   "metadata": {},
   "source": [
    "#### COJO SNPs and healthspan data generation"
   ]
  },
  {
   "cell_type": "code",
   "execution_count": null,
   "metadata": {},
   "outputs": [],
   "source": [
    "cojodata = pd.concat([pd.read_csv(f, delim_whitespace=True, index_col=0).iloc[:,5:] \\\n",
    "           for f in glob('*.raw')], axis=1)\n",
    "cojodata.columns = [col[:-2] for col in cojodata.columns]\n",
    "# %store cojodata"
   ]
  },
  {
   "cell_type": "code",
   "execution_count": null,
   "metadata": {},
   "outputs": [],
   "source": [
    "clean_index = sampleqc.index[sampleqc[24]==1]\n",
    "morths = get_comb_df(descodes.keys() + ['death','cancer'], clean_index)\n",
    "morths['t1'] = 0"
   ]
  },
  {
   "cell_type": "markdown",
   "metadata": {},
   "source": [
    "#### Parcing race data and composing cohorts for replication"
   ]
  },
  {
   "cell_type": "code",
   "execution_count": null,
   "metadata": {},
   "outputs": [],
   "source": [
    "cohorts = {'gwas':sampleqc.index[sampleqc[23]==1].intersection(\n",
    "                  sampleqc.index[sampleqc[2]=='UKBB'].intersection(\n",
    "                  sampleqc.index[sampleqc[24]==1]))}\n",
    "\n",
    "cohorts['british'] = sampleqc.index[sampleqc[23]==1].intersection(\n",
    "                      sampleqc.index[sampleqc[2]=='UKBL'].intersection(\n",
    "                      sampleqc.index[sampleqc[24]==1]))\n",
    "\n",
    "cohorts['replication'] = pd.Index(set(sampleqc.index[sampleqc[24]==1].tolist())-set(cohorts['gwas'].tolist()))\n",
    "\n",
    "cohorts['white'] = race.index[race.isin(['British','Any other white background','Irish','White'])].intersection(\n",
    "    cohorts['replication'])\n",
    "cohorts['african'] = race.index[race.isin(['African'])].intersection(cohorts['replication'])\n",
    "cohorts['indian'] = race.index[race.isin(['Indian','Pakistani','Bangladeshi'])].intersection(cohorts['replication'])\n",
    "cohorts['chinese'] = race.index[race.isin(['Chinese'])].intersection(cohorts['replication'])\n",
    "cohorts['carribean'] = race.index[race.isin(['Caribbean'])].intersection(cohorts['replication'])"
   ]
  },
  {
   "cell_type": "code",
   "execution_count": null,
   "metadata": {},
   "outputs": [],
   "source": [
    "replication_cohorts = ['white','african','indian','chinese','carribean']"
   ]
  },
  {
   "cell_type": "code",
   "execution_count": null,
   "metadata": {},
   "outputs": [],
   "source": [
    "from functools import reduce\n",
    "fullcohort = reduce(pd.Index.union,[cohorts[elem] for elem in replication_cohorts]).tolist()\n",
    "np.savetxt('data/replication_cohort.txt', np.stack((fullcohort,fullcohort)).T, fmt='%s')"
   ]
  },
  {
   "cell_type": "markdown",
   "metadata": {},
   "source": [
    "#### Run replication pipelines"
   ]
  },
  {
   "cell_type": "code",
   "execution_count": null,
   "metadata": {},
   "outputs": [],
   "source": [
    "morths = pd.read_pickle('data/healthspan_500k.pkl')\n",
    "morths['t1'] = 0"
   ]
  },
  {
   "cell_type": "code",
   "execution_count": null,
   "metadata": {
    "code_folding": []
   },
   "outputs": [],
   "source": [
    "batch_dummy = pd.get_dummies(sampleqc.loc[:,3])\n",
    "race_dummy = pd.get_dummies(race)\n",
    "df_main_ = pd.concat([baseline['sex'],\n",
    "                      race_dummy,\n",
    "                      pd.Series((sampleqc.loc[:,2]=='UKBB').astype(float),name='ukbb'),\n",
    "                      pca, pd.get_dummies(assess_center),\n",
    "                      batch_dummy, morths.drop(['tdiag','tf'], axis=1, errors='ignore').astype(float)],\n",
    "                     axis=1)#.loc[sampleqc.index[sampleqc[24]==1],:]"
   ]
  },
  {
   "cell_type": "code",
   "execution_count": null,
   "metadata": {},
   "outputs": [],
   "source": [
    "res = [replication_pipeline(df_main_, cojodata, cohorts[cohort_name]) for cohort_name in replication_cohorts]\n",
    "\n",
    "gwas_replication = pd.concat([elem[0] for elem in res], axis=1, keys=replication_cohorts)\n",
    "betas_replication = pd.concat([elem[1] for elem in res], axis=1, keys=replication_cohorts)\n",
    "\n",
    "betas = gwas_replication.loc[:,(slice(None),'beta')]\n",
    "betas.columns = betas.columns.droplevel(1)\n",
    "sigmas = gwas_replication.loc[:,(slice(None),'sigma')]\n",
    "sigmas.columns = sigmas.columns.droplevel(1)"
   ]
  },
  {
   "cell_type": "code",
   "execution_count": null,
   "metadata": {},
   "outputs": [],
   "source": [
    "replication_ma = pd.concat([metaanalysis(betas, sigmas)], axis=1, keys=['meta-analysis'])\n",
    "\n",
    "renamedic = {'beta':'Beta','sigma':'SE','p':'P-value'}\n",
    "replication_table = pd.concat([gwas_replication, replication_ma],\n",
    "                              axis=1).drop(['Nd'], axis=1, level=1).rename(columns=renamedic, level=1)"
   ]
  },
  {
   "cell_type": "code",
   "execution_count": null,
   "metadata": {},
   "outputs": [],
   "source": [
    "pd.read_csv('data/suptable1.tsv', sep='\\t', index_col=0, header=[0,1]).loc[snporder,:]"
   ]
  },
  {
   "cell_type": "code",
   "execution_count": null,
   "metadata": {},
   "outputs": [],
   "source": [
    "snporder = ['rs12134662','rs10197246','rs12203592','rs1049053','rs10455872','rs140570886',\n",
    "            'rs7859727','rs34872471','rs2860197','rs79820308','rs1126809','rs4784227','rs4268748','rs159428']\n",
    "replication_table.loc[snporder,:]"
   ]
  },
  {
   "cell_type": "code",
   "execution_count": null,
   "metadata": {},
   "outputs": [],
   "source": [
    "replication_pipeline(df_main_, cojodata, cohorts['gwas'])"
   ]
  },
  {
   "cell_type": "code",
   "execution_count": null,
   "metadata": {},
   "outputs": [],
   "source": []
  }
 ],
 "metadata": {
  "hide_code_all_hidden": false,
  "kernelspec": {
   "display_name": "Python 2",
   "language": "python",
   "name": "python2"
  },
  "language_info": {
   "codemirror_mode": {
    "name": "ipython",
    "version": 2
   },
   "file_extension": ".py",
   "mimetype": "text/x-python",
   "name": "python",
   "nbconvert_exporter": "python",
   "pygments_lexer": "ipython2",
   "version": "2.7.12"
  },
  "nav_menu": {},
  "toc": {
   "base_numbering": 1,
   "nav_menu": {
    "height": "469px",
    "width": "427px"
   },
   "number_sections": false,
   "sideBar": false,
   "skip_h1_title": false,
   "title_cell": "Table of Contents",
   "title_sidebar": "Contents",
   "toc_cell": false,
   "toc_position": {},
   "toc_section_display": "block",
   "toc_window_display": false
  }
 },
 "nbformat": 4,
 "nbformat_minor": 1
}
