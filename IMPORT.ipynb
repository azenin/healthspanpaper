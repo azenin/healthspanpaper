{
 "cells": [
  {
   "cell_type": "code",
   "execution_count": null,
   "metadata": {},
   "outputs": [],
   "source": [
    "import sys\n",
    "from os import chdir, remove, mkdir\n",
    "import multiprocessing\n",
    "from os.path import basename, join, splitext\n",
    "from glob import glob\n",
    "import subprocess\n",
    "\n",
    "import numpy as np\n",
    "import pandas as pd\n",
    "import pylab as pl\n",
    "\n",
    "from matplotlib_venn import venn3, venn2, venn2_circles\n",
    "from sklearn import linear_model\n",
    "from scipy import stats\n",
    "from progressbar import ProgressBar\n",
    "\n",
    "from pygero.utils.mputils import multiproc_pbar\n",
    "\n",
    "# chdir('')\n",
    "n_jobs=multiprocessing.cpu_count()"
   ]
  },
  {
   "cell_type": "code",
   "execution_count": null,
   "metadata": {},
   "outputs": [],
   "source": [
    "import multiprocessing as MP\n",
    "import itertools\n",
    "import time\n",
    "import progressbar\n",
    "\n",
    "def multiproc_pbar(fun, args, mask, kwargs={}, n_jobs=None, progress=True):\n",
    "    arg_iters = []\n",
    "    for i, elem in enumerate(args):\n",
    "        arg_iters.append(iter(elem) if mask[i] else itertools.repeat(elem))\n",
    "    prms = list(itertools.izip(itertools.repeat(fun), itertools.repeat(kwargs), *arg_iters))\n",
    "    n_tasks = len(prms)\n",
    "    for i, elem in enumerate(arg_iters):\n",
    "        if mask[i]:\n",
    "            try:\n",
    "                next(elem)\n",
    "            except StopIteration:\n",
    "                pass\n",
    "            else:\n",
    "                raise TypeError(\"expandable arguments must be of the same length\")\n",
    "    pool = MP.Pool(processes=n_jobs)\n",
    "    result = pool.map_async(_func_star_many, prms, chunksize=1)\n",
    "    if progress:\n",
    "        pbar = progressbar.ProgressBar(maxval=n_tasks).start()\n",
    "    while not result.ready():\n",
    "        try:\n",
    "            if progress:\n",
    "                pbar.update(n_tasks-result._number_left)\n",
    "            time.sleep(1)\n",
    "        except KeyboardInterrupt:\n",
    "            pool.terminate()\n",
    "            pool.join()\n",
    "            raise\n",
    "    pool.close()\n",
    "    pool.join()\n",
    "    if progress:\n",
    "        pbar.finish()\n",
    "    return result.get()"
   ]
  },
  {
   "cell_type": "code",
   "execution_count": null,
   "metadata": {},
   "outputs": [],
   "source": [
    "def metaanalysis(slope, seslopes):\n",
    "\n",
    "    weight = seslopes**-2\n",
    "    beta_ma = (slope*weight).sum(1)/weight.sum(1)\n",
    "    sigma_ma = weight.sum(1)**-.5\n",
    "    t = beta_ma/sigma_ma\n",
    "    return pd.concat([beta_ma, sigma_ma, t.apply(pval)], axis=1, keys=['beta','sigma','p'])"
   ]
  },
  {
   "cell_type": "code",
   "execution_count": null,
   "metadata": {},
   "outputs": [],
   "source": [
    "def LH_both(X, x, u, t1, e):\n",
    "    M0, g, beta = X[0], X[1], X[2:]\n",
    "\n",
    "    N = 1.*u.shape[0]\n",
    "    gt2 = g * (t1 + u)\n",
    "    gt1 = g * t1\n",
    "#     gt3 = g * t3\n",
    "\n",
    "    gu = g * u\n",
    "    z = np.dot(x, np.array(beta).reshape((-1,1))).flatten()\n",
    "\n",
    "    logLikelihood = np.sum(np.exp(M0)/g * np.exp(z) * (np.exp(gt1) - np.exp(gt2)))\n",
    "    logLikelihood += np.dot(gt2 + z + M0, e)\n",
    "#     logLikelihood -= np.dot(np.log(1.0 - np.exp(-np.exp(M0) * np.exp(z) * (np.exp(gt3) - 1) / g)), psi)\n",
    "    \n",
    "    return -logLikelihood"
   ]
  },
  {
   "cell_type": "code",
   "execution_count": null,
   "metadata": {},
   "outputs": [],
   "source": [
    "def pval(t_stat):\n",
    "    return stats.chi2.sf(t_stat**2, 1)"
   ]
  },
  {
   "cell_type": "code",
   "execution_count": null,
   "metadata": {},
   "outputs": [],
   "source": [
    "def parallel_p(dataslice):\n",
    "    return dataslice.apply(pval)"
   ]
  },
  {
   "cell_type": "code",
   "execution_count": null,
   "metadata": {},
   "outputs": [],
   "source": [
    "from scipy.optimize import minimize\n",
    "\n",
    "def optimize_cox_gomperz(df_main):\n",
    "    \n",
    "    x = df_main.drop(['t1','t2','event'], axis=1).values\n",
    "    u = (df_main['t2'] - df_main['t1']).values\n",
    "    args = (x, u, df_main['t1'].values, df_main['event'].values)\n",
    "    X0 = [np.log(1e-5), 0.085] + [0]*x.shape[1]\n",
    "\n",
    "    res = minimize(LH_both, X0, args=args, method='L-BFGS-B')\n",
    "    betas = pd.Series(res.x[2:], index=df_main.columns[:-3])\n",
    "    betas['gamma'] = res.x[1]\n",
    "    betas['M0'] = np.exp(res.x[0])\n",
    "    return betas"
   ]
  },
  {
   "cell_type": "code",
   "execution_count": null,
   "metadata": {},
   "outputs": [],
   "source": [
    "def cox_gm_gwas(df_slice_input, betas, rawdata):\n",
    "\n",
    "    M0, gamma = betas[['M0','gamma']].values\n",
    "    df_slice = df_slice_input.copy()\n",
    "    df_slice['betax'] = df_slice.loc[:,betas.index.drop(['M0','gamma'])].mul(betas, axis=1).sum(1)\n",
    "    df_slice['z'] = np.exp(df_slice['betax'])\n",
    "    df_slice['gt1'] = np.exp(df_slice['t1']*gamma)\n",
    "    df_slice['gt2'] = np.exp(df_slice['t2']*gamma)\n",
    "\n",
    "    xs = df_slice.index.intersection(rawdata.index)\n",
    "    dfxs = df_slice.loc[xs,:]\n",
    "\n",
    "    delta, t1, t2, betax, z, gt1, gt2 = dfxs.loc[:,['event','t1','t2','betax','z','gt1','gt2']].values.T\n",
    "    g = z*(gt2-gt1)/gamma\n",
    "    Nd = np.sum(delta)\n",
    "    phi = M0*g - delta\n",
    "    theta = np.copy(g)\n",
    "    Loo = (Nd/M0**2)\n",
    "\n",
    "    snpdata = rawdata.loc[xs,:].values.T\n",
    "\n",
    "    Ls = np.sum(snpdata*phi, axis=1)\n",
    "    snpdatatheta = snpdata*theta\n",
    "    Los = np.sum(snpdatatheta, axis=1)\n",
    "    Lss = M0*np.sum(snpdata*snpdatatheta, axis=1)\n",
    "\n",
    "    commonpart = 1./(Lss-Los**2/Loo)\n",
    "    beta = -Ls*commonpart\n",
    "#     sigma = np.sqrt(commonpart)\n",
    "    sigma = commonpart**0.5\n",
    "    res = pd.DataFrame(np.stack([beta, sigma], axis=-1),\n",
    "             columns=['beta', 'sigma'], index=rawdata.columns)\n",
    "    res['Nd'] = Nd\n",
    "    res['p'] = res.apply(lambda x: pval(x['beta']/x['sigma']), axis=1)\n",
    "    return res"
   ]
  },
  {
   "cell_type": "code",
   "execution_count": null,
   "metadata": {},
   "outputs": [],
   "source": [
    "def replication_pipeline(df_main_, cojodata, clean_index):\n",
    "    \n",
    "    df_main = df_main_.loc[clean_index,:].dropna()\n",
    "    df_main.iloc[:,:-3] -= df_main.iloc[:,:-3].mean(0)\n",
    "    df_main.iloc[:,:-3] /= df_main.iloc[:,:-3].std(0)\n",
    "    df_main = df_main.dropna(how='all', axis=1)\n",
    "    betas_replication = optimize_cox_gomperz(df_main)\n",
    "    gwas_replication = cox_gm_gwas(df_main, betas_replication, cojodata)\n",
    "    return gwas_replication, betas_replication#, gwas_replication_covs, betas_replication_covs"
   ]
  },
  {
   "cell_type": "code",
   "execution_count": null,
   "metadata": {},
   "outputs": [],
   "source": [
    "descodes = {\n",
    "            'MI':{'sr':[1075],'icd':['I21','I22','I23','I24','I25']},\n",
    "            'stroke':{'sr':[1081,1086,1491,1583],'icd':['I60','I61','I62','I63','I64']},\n",
    "            'CHF':{'sr':[1076],'icd':['I50']},\n",
    "            'dementia':{'sr':[1263,1258,1259,1260,1261,1262],'icd':['F00','F01','F02','F03','F04','F05']},\n",
    "#             'hypertension':{'sr':[1065,1072,1073],'icd':['I10','I11','I12','I13','I14','I15']},\n",
    "            'COPD':{'sr':[1112],'icd':['J44']},\n",
    "#             'renal failure':{'sr':[1192,1193,1194],'icd':['N17','N18','N19']},\n",
    "            'diabetes':{'sr':[1220,1221,1222,1223,1521],'icd':['E10','E11','E12','E13','E14']}\n",
    "            }"
   ]
  }
 ],
 "metadata": {
  "kernelspec": {
   "display_name": "Python 2",
   "language": "python",
   "name": "python2"
  },
  "language_info": {
   "codemirror_mode": {
    "name": "ipython",
    "version": 2
   },
   "file_extension": ".py",
   "mimetype": "text/x-python",
   "name": "python",
   "nbconvert_exporter": "python",
   "pygments_lexer": "ipython2",
   "version": "2.7.12"
  },
  "nav_menu": {},
  "toc": {
   "base_numbering": 1,
   "nav_menu": {},
   "number_sections": false,
   "sideBar": false,
   "skip_h1_title": false,
   "title_cell": "Table of Contents",
   "title_sidebar": "Contents",
   "toc_cell": false,
   "toc_position": {},
   "toc_section_display": "block",
   "toc_window_display": false
  }
 },
 "nbformat": 4,
 "nbformat_minor": 2
}
