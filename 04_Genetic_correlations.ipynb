{
 "cells": [
  {
   "cell_type": "code",
   "execution_count": null,
   "metadata": {},
   "outputs": [],
   "source": [
    "%run IMPORT.ipynb"
   ]
  },
  {
   "cell_type": "code",
   "execution_count": null,
   "metadata": {},
   "outputs": [],
   "source": [
    "%config InlineBackend.figure_format = 'retina'\n",
    "%matplotlib notebook"
   ]
  },
  {
   "cell_type": "code",
   "execution_count": null,
   "metadata": {},
   "outputs": [],
   "source": [
    "def load_calls_results(prefix):\n",
    "    aa = pd.concat([pd.read_pickle('/data/cox/%s/ukb_cal_chr%s_v2.pkl'%(prefix,i)) for i in range(1,23)])\n",
    "\n",
    "    aa['Chromosome'] = [int(elem.split('_')[0]) for elem in aa.index]\n",
    "    aa['Position'] = [int(elem.split('_')[3].split('_')[0]) for elem in aa.index]\n",
    "    aa['ID'] = map(lambda x: x.split('_')[1], aa.index)\n",
    "\n",
    "    aa[2.1] = 2.*aa[2.0]\n",
    "    aa[0.1] = 2.*aa[0.0]\n",
    "    aa['maf'] = aa[[1.0,2.1]].sum(1)/(2.*aa[[0.0,1.0,2.0]].sum(1))\n",
    "    aa['miss'] = aa[3.0]/(1.*aa[[0.0,1.0,2.0,3.0]].sum(1))\n",
    "    aa['t'] = aa['beta']/aa['sigma']\n",
    "    split = np.array_split(aa['t'],n_jobs)\n",
    "    p = pd.concat(multiproc_pbar(parallel_p, [split], [True]))\n",
    "    aa['p'] = p.loc[aa.index]\n",
    "    return aa"
   ]
  },
  {
   "cell_type": "code",
   "execution_count": null,
   "metadata": {},
   "outputs": [],
   "source": [
    "def load_plink_calls_results(prefix):\n",
    "    bim = pd.concat([pd.read_csv('/mnt/tmp/calls/ukb_cal_chr%s_v2.bim'%i,\n",
    "                                 sep='\\t', header=None, index_col=1) for i in range(1,23)])\n",
    "    bim = bim.rename(columns={0:'chr',3:'pos',4:'A1',5:'A2'})\n",
    "    aa = pd.concat([pd.read_csv('/data/GWAS-2/gwas/triples1/ukb_cal_chr%s_v2.%s.assoc.linear'%(\n",
    "        i,prefix), delim_whitespace=True, index_col=1) for i in range(1,23)]).drop(['A1'], axis=1)\n",
    "    res = pd.concat([aa,bim], axis=1)\n",
    "    return res.reset_index().rename(columns={'BETA':'beta','CHR':'Chromosome','BP':'Position',\n",
    "                                             'index':'ID','A1':'A','A2':'B','NMISS':'Nd','STAT':'t',\n",
    "                                            'P':'p'})"
   ]
  },
  {
   "cell_type": "markdown",
   "metadata": {},
   "source": [
    "### Calls data"
   ]
  },
  {
   "cell_type": "markdown",
   "metadata": {},
   "source": [
    "#### Load calls summary statistics"
   ]
  },
  {
   "cell_type": "code",
   "execution_count": null,
   "metadata": {},
   "outputs": [],
   "source": [
    "pbar = ProgressBar()\n",
    "tstats = {}\n",
    "for prefix in pbar(['andersen_list','andersen_MI','andersen_diabetes','andersen_canceronly',\n",
    "                    'andersen_CHF','andersen_COPD','andersen_death','andersen_dementia','andersen_stroke']):\n",
    "    tstats[prefix+'_selectedcovs'] = load_calls_results(prefix+'_selectedcovs')"
   ]
  },
  {
   "cell_type": "markdown",
   "metadata": {},
   "source": [
    "#### LDsc Genetic Correlations for calls data"
   ]
  },
  {
   "cell_type": "code",
   "execution_count": null,
   "metadata": {},
   "outputs": [],
   "source": [
    "ldsc_refdir=/data/genreg/calls_10k_ref_maf0.01\n",
    "tenkref=/data/files/10k_reference.index\n",
    "ldsc_py=/data/soft/dist/ldsc/ldsc.py\n",
    "munge_sumstats_py=/data/soft/dist/ldsc/munge_sumstats.py\n",
    "out_dir=/data/genreg/output_calls_selected_covs_wo_death\n",
    "\n",
    "# mkdir $ldsc_refdir"
   ]
  },
  {
   "cell_type": "code",
   "execution_count": null,
   "metadata": {},
   "outputs": [],
   "source": [
    "mkdir $out_dir\n",
    "\n",
    "parallel --eta plink2 --bfile {.} --keep $tenkref --maf 0.01 --make-bed --out $ldsc_refdir/{/.} ::: /mnt/tmp/calls/chr*bed\n",
    "parallel --eta $ldsc_py --bfile {.} --l2 --ld-wind-cm 1 --yes-really --out {.} ::: $ldsc_refdir/chr*bed\n",
    "rename 's/chr//g' $ldsc_refdir/chr*l2*\n",
    "\n",
    "echo -e 'SNP\\tA1\\tA2' > $ldsc_refdir/snplist.txt\n",
    "awk '{print $2\"\\t\"$5\"\\t\"$6'} $ldsc_refdir/chr*bim >> $ldsc_refdir/snplist.txt"
   ]
  },
  {
   "cell_type": "code",
   "execution_count": null,
   "metadata": {},
   "outputs": [],
   "source": [
    "out_dir = '/data/genreg/output_calls_selected_covs/'"
   ]
  },
  {
   "cell_type": "code",
   "execution_count": null,
   "metadata": {},
   "outputs": [],
   "source": [
    "# pbar = ProgressBar()\n",
    "for name, df in tstats.iteritems():\n",
    "    df = df[(df['beta']**2)<80]\n",
    "    df = df[~((df['Chromosome']==6)&(df['Position']>26e6)&(df['Position']<34e6))]\n",
    "    df = df[df['miss']<0.02]\n",
    "    df = df.reset_index()\n",
    "    df['A'] = df['index'].apply(lambda x: x.split('_')[-2])\n",
    "    df['B'] = df['index'].apply(lambda x: x.split('_')[-1])\n",
    "    \n",
    "    df.dropna().to_csv(join(out_dir,'%s.gz'%name), compression='gzip', index=False, sep=' ',\n",
    "             columns=['ID','A','B','Nd','t','p'], header=['SNP','A1','A2','N','Z','P'])"
   ]
  },
  {
   "cell_type": "code",
   "execution_count": null,
   "metadata": {},
   "outputs": [],
   "source": [
    "source ~/data/GWAS-2/genreg/ldsc_venv/bin/activate"
   ]
  },
  {
   "cell_type": "code",
   "execution_count": null,
   "metadata": {},
   "outputs": [],
   "source": [
    "parallel --eta $munge_sumstats_py --sumstats {} --out {.} --merge-alleles $ldsc_refdir/snplist.txt ::: $out_dir/*.gz\n",
    "\n",
    "cd $out_dir\n",
    "files=$(ls -m *.sumstats.gz | tr -d ' ' | tr -d '\\n')\n",
    "for file in *.sumstats.gz; do\n",
    "    fl=\"${file%.sumstats.gz}\";\n",
    "    $ldsc_py --rg $file,$files --ref-ld-chr $ldsc_refdir/ --w-ld-chr $ldsc_refdir/ --out $fl; done"
   ]
  },
  {
   "cell_type": "code",
   "execution_count": null,
   "metadata": {},
   "outputs": [],
   "source": [
    "renamedict = {'andersen_list':'Healthspan','andersen_canceronly':'cancer','andersen_MI':'MI',\n",
    "              'andersen_diabetes':'diabetes',\n",
    "              'andersen_CHF':'CHF','andersen_COPD':'COPD','andersen_death':'death','andersen_dementia':'dementia',\n",
    "              'andersen_stroke':'stroke'}#,'surv_fa':'father_death','surv_mo':'mother_death'}\n",
    "\n",
    "from StringIO import StringIO\n",
    "cordf = {}\n",
    "\n",
    "for filename in glob(join(out_dir,'*.sumstats.gz')):\n",
    "    with open(filename.replace('.sumstats.gz','.log'),'r') as rl:\n",
    "        \n",
    "        flag = 0\n",
    "        strdata = ''\n",
    "        for line in rl.readlines():\n",
    "            \n",
    "            if 'Summary of Genetic Correlation Results' in line:\n",
    "                flag = 1\n",
    "                continue\n",
    "            if flag==1:\n",
    "                if len(line)>1:\n",
    "                    strdata += line\n",
    "                else:\n",
    "                    break\n",
    "\n",
    "        cordf[basename(filename).split('.')[0]] = pd.read_csv(StringIO(strdata), delim_whitespace=True)\n",
    "\n",
    "corrm = pd.DataFrame(index=cordf.keys(), columns=cordf.keys())\n",
    "corrp = pd.DataFrame(index=cordf.keys(), columns=cordf.keys())\n",
    "\n",
    "for key1 in cordf.keys():\n",
    "    for key2 in cordf.keys():\n",
    "        corrm.loc[key1,key2] = cordf[key1].set_index('p2').loc['%s.sumstats.gz'%key2,'rg']\n",
    "        corrp.loc[key1,key2] = cordf[key1].set_index('p2').loc['%s.sumstats.gz'%key2,'p']\n",
    "\n",
    "corrm = corrm.rename(index=renamedict, columns=renamedict)\n",
    "corrp = corrp.rename(index=renamedict, columns=renamedict)\n",
    "\n",
    "order = ['Healthspan','death','diabetes','stroke','COPD','MI','CHF','cancer','dementia']\n",
    "corrm = corrm.T.loc[order,order]\n",
    "corrp = corrp.T.loc[order,order]"
   ]
  },
  {
   "cell_type": "code",
   "execution_count": null,
   "metadata": {},
   "outputs": [],
   "source": [
    "with pd.ExcelWriter('/data/tables/supdata3.xlsx') as writer:\n",
    "\n",
    "    corrp.to_excel(writer, sheet_name='p')\n",
    "    corrm.to_excel(writer, sheet_name='rg')"
   ]
  },
  {
   "cell_type": "code",
   "execution_count": null,
   "metadata": {},
   "outputs": [],
   "source": [
    "for y_index, y in enumerate(corrm.columns):\n",
    "    for x_index, x in enumerate(corrm.columns):\n",
    "        if y_index <= x_index:\n",
    "            corrm.iloc[x_index,y_index]=np.nan\n",
    "            corrp.iloc[x_index,y_index]=np.nan\n",
    "\n",
    "corrm = corrm.iloc[:,::-1].iloc[:-1,:-1]\n",
    "corrp = corrp.iloc[:,::-1].iloc[:-1,:-1]"
   ]
  },
  {
   "cell_type": "code",
   "execution_count": null,
   "metadata": {},
   "outputs": [],
   "source": [
    "from matplotlib import rcParams\n",
    "rcParams['font.family'] = 'sans-serif'\n",
    "rcParams['font.sans-serif'] = ['Arial']\n",
    "rcParams['font.size'] = 8"
   ]
  },
  {
   "cell_type": "code",
   "execution_count": null,
   "metadata": {},
   "outputs": [],
   "source": [
    "boldmask = pd.DataFrame('regular', index=corrp.index, columns=corrp.columns)\n",
    "boldmask[corrp<(0.05/28.)] = 'bold'\n",
    "\n",
    "fig = pl.figure(figsize=(4,4))\n",
    "ax = fig.add_subplot(111)\n",
    "cm = ax.imshow(corrm.values.astype(float), interpolation=None, cmap='coolwarm_r', vmin=-1, vmax=1)\n",
    "pl.xticks(np.arange(len(corrm.columns)), corrm.columns, rotation=35, ha='left');\n",
    "pl.yticks(np.arange(len(corrm.index)), corrm.index);\n",
    "\n",
    "for y_index, y in enumerate(corrm.index):\n",
    "    for x_index, x in enumerate(corrm.columns):\n",
    "        if corrp.loc[y,x] is not np.nan:#y_index <= x_index:\n",
    "            label = '%.2f'%corrm.values[y_index, x_index]\n",
    "            ax.text(x_index, y_index, label, color='black', ha='center', va='center',\n",
    "                    weight=boldmask.iloc[y_index, x_index])\n",
    "\n",
    "ax.spines['top'].set_visible(False)\n",
    "ax.spines['right'].set_visible(False)\n",
    "ax.spines['bottom'].set_visible(False)\n",
    "ax.spines['left'].set_visible(False)\n",
    "ax.xaxis.set_ticks_position('top')\n",
    "\n",
    "# pl.title('Genetic Correlation')\n",
    "pl.colorbar(cm, fraction=0.046, pad=0.04)\n",
    "pl.tight_layout()"
   ]
  },
  {
   "cell_type": "code",
   "execution_count": null,
   "metadata": {},
   "outputs": [],
   "source": [
    "fig.savefig('/data/tables/GCcalls.pdf', dpi=300)\n",
    "fig.savefig('/data/tables/GCcalls.png', dpi=300)"
   ]
  },
  {
   "cell_type": "code",
   "execution_count": null,
   "metadata": {},
   "outputs": [],
   "source": [
    "cordf['andersen_list'].set_index('p2').loc[:,['rg','p']].drop(['andersen_list.sumstats.gz']).rename(\n",
    "    index=dict(zip(cordf['andersen_list']['p2'].values,[elem.split('.')[0] for elem in cordf['andersen_list']['p2'].values]))).rename(\n",
    "    index=renamedict).to_csv('/data/tables/suptable15.tsv')"
   ]
  }
 ],
 "metadata": {
  "kernelspec": {
   "display_name": "Python 2",
   "language": "python",
   "name": "python2"
  },
  "language_info": {
   "codemirror_mode": {
    "name": "ipython",
    "version": 2
   },
   "file_extension": ".py",
   "mimetype": "text/x-python",
   "name": "python",
   "nbconvert_exporter": "python",
   "pygments_lexer": "ipython2",
   "version": "2.7.12"
  },
  "nav_menu": {},
  "toc": {
   "base_numbering": 1,
   "nav_menu": {},
   "number_sections": false,
   "sideBar": false,
   "skip_h1_title": false,
   "title_cell": "Table of Contents",
   "title_sidebar": "Contents",
   "toc_cell": false,
   "toc_position": {},
   "toc_section_display": "block",
   "toc_window_display": false
  }
 },
 "nbformat": 4,
 "nbformat_minor": 2
}
