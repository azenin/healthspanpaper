{
 "cells": [
  {
   "cell_type": "code",
   "execution_count": null,
   "metadata": {
    "ExecuteTime": {
     "end_time": "2018-12-20T10:54:29.950518Z",
     "start_time": "2018-12-20T10:54:29.816145Z"
    }
   },
   "outputs": [],
   "source": [
    "%run IMPORT.ipynb"
   ]
  },
  {
   "cell_type": "code",
   "execution_count": null,
   "metadata": {
    "ExecuteTime": {
     "end_time": "2018-12-20T10:54:29.980239Z",
     "start_time": "2018-12-20T10:54:29.955063Z"
    }
   },
   "outputs": [],
   "source": [
    "%config InlineBackend.figure_format = 'retina'\n",
    "%matplotlib notebook"
   ]
  },
  {
   "cell_type": "markdown",
   "metadata": {},
   "source": [
    "### Download data"
   ]
  },
  {
   "cell_type": "code",
   "execution_count": null,
   "metadata": {},
   "outputs": [],
   "source": [
    "%%bash\n",
    "\n",
    "export ASPERA_SCP_PASS='';\n",
    "username='';\n",
    "server=''\n",
    "ascp -k 3 --ignore-host-key -QTl 100m ${username}@${server}:dbox_content .\n",
    "\n",
    "parallel_downloads=10\n",
    "grep 'ukb_l2r\\|ukb_cal\\|ukb_baf\\|ukb_imp\\|ukb_hla' dbox_content | grep -v 'bgi' | xargs -i --max-procs=$parallel_downloads bash -c \\\n",
    "\"ascp --ignore-host-key -k 1 -QTl 100m ${username}@${server}:{} ./{}\"\n",
    "\n",
    "email=''\n",
    "pass=''\n",
    "dkey=''\n",
    "java -jar EgaDemoClient.jar -p $email $pass -dc *.cip -dck $dkey\n",
    "\n",
    "mkdir /mnt/data/ukbdata\n",
    "cd /mnt/data/ukbdata\n",
    "\n",
    "wget http://biobank.ndph.ox.ac.uk/showcase/auxdata/ukb_snp_qc.txt\n",
    "wget http://biobank.ndph.ox.ac.uk/showcase/auxdata/ukb_snp_bim.tar\n",
    "wget http://biobank.ndph.ox.ac.uk/showcase/auxdata/ukb_imp_bgi.tgz\n",
    "wget http://biobank.ndph.ox.ac.uk/showcase/auxdata/ukb_imp_mfi.tgz\n",
    "\n",
    "ukbgene rel -a.ukbkey"
   ]
  },
  {
   "cell_type": "code",
   "execution_count": null,
   "metadata": {},
   "outputs": [],
   "source": [
    "%%bash\n",
    "\n",
    "for chr in {1..22}; do\n",
    "    gzip -d ukb_bgi_chr${chr}_v2.bgi.gz;\n",
    "    gzip -d ukb_imp_chr${chr}_v2.bgen.gz; done\n",
    "\n",
    "rename 's/_bgi_/_imp_/g' ukb_bgi_*.bgi\n",
    "rename 's/.bgi/.bgen.bgi/g' ukb_imp_*.bgi\n",
    "for chr in {1..22}; do cp ukb_imp_chr$chr.bgi ukb_imp_chr$chr.bgi_original; done"
   ]
  },
  {
   "cell_type": "markdown",
   "metadata": {},
   "source": [
    "### Generate 10k reference"
   ]
  },
  {
   "cell_type": "code",
   "execution_count": null,
   "metadata": {},
   "outputs": [],
   "source": [
    "for chr in {01..22}; do\n",
    "    cat-bgen -g 500k_mac200_info07/chr${chr}_*bgen -og merged_chromosomes/chr$chr.bgen;\n",
    "    plink2 --bgen merged_chromosomes/chr$chr.bgen --sample ukbxxxx_imp_chr1_v2_sxxxxxx.sample --make-pgen --out merged_chromosomes/chr$chr;\n",
    "    rm merged_chromosomes/chr$chr.bgen; done\n",
    "    plink2 --pfile merged_chromosomes/chr$chr --keep 10k_reference.index --make-bed --out 10kref/chr$chr;\n",
    "    done"
   ]
  },
  {
   "cell_type": "code",
   "execution_count": null,
   "metadata": {},
   "outputs": [],
   "source": [
    "for f in {01..22}; do\n",
    "plink2 --pfile merged/chr$f --keep 10k_reference.index --make-bed --memory 80000 --out 10kref_v3/chr$f;\n",
    "done"
   ]
  },
  {
   "cell_type": "code",
   "execution_count": null,
   "metadata": {},
   "outputs": [],
   "source": [
    "slice300k=300k_df_slice.index\n",
    "\n",
    "parallel --eta -j 1 plink2 --pfile merged_chromosomes/{/.} --extract {} --keep $slice300k --export A-transpose --out {.} ::: w_hm3/*snps"
   ]
  }
 ],
 "metadata": {
  "kernelspec": {
   "display_name": "Python 2",
   "language": "python",
   "name": "python2"
  },
  "language_info": {
   "codemirror_mode": {
    "name": "ipython",
    "version": 2
   },
   "file_extension": ".py",
   "mimetype": "text/x-python",
   "name": "python",
   "nbconvert_exporter": "python",
   "pygments_lexer": "ipython2",
   "version": "2.7.12"
  },
  "nav_menu": {},
  "toc": {
   "base_numbering": 1,
   "nav_menu": {},
   "number_sections": false,
   "sideBar": false,
   "skip_h1_title": false,
   "title_cell": "Table of Contents",
   "title_sidebar": "Contents",
   "toc_cell": false,
   "toc_position": {},
   "toc_section_display": "block",
   "toc_window_display": false
  }
 },
 "nbformat": 4,
 "nbformat_minor": 2
}
